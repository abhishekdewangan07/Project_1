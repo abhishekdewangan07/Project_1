{
 "cells": [
  {
   "cell_type": "markdown",
   "metadata": {},
   "source": [
    "# Problem Statement 1:\n",
    "\n",
    "In each of the following situations, state whether it is a correctly stated hypothesis testing problem and why? \n",
    " \n",
    "1. 𝐻0: 𝜇 = 25, 𝐻1: 𝜇 ≠ 25 <br>\n",
    "2. 𝐻0: 𝜎 > 10, 𝐻1: 𝜎 = 10 <br>\n",
    "3. 𝐻0: 𝑥  = 50, 𝐻1: 𝑥  ≠ 50 <br>\n",
    "4. 𝐻0: 𝑝 = 0.1, 𝐻1: 𝑝 = 0.5 <br>\n",
    "5. 𝐻0: 𝑠 = 30, 𝐻1: 𝑠 > 30 <br>"
   ]
  },
  {
   "cell_type": "markdown",
   "metadata": {},
   "source": [
    "###### Solution:"
   ]
  },
  {
   "cell_type": "markdown",
   "metadata": {},
   "source": [
    "1. 𝐻0: 𝜇 = 25, 𝐻1: 𝜇 ≠ 25 \n",
    "        \n",
    "Correctly stated as null hypothesis is stated as no difference between the parameter(𝜇) and it's estimate.\n",
    "\n",
    "**************************************************************\n",
    "\n",
    "2. 𝐻0: 𝜎 > 10, 𝐻1: 𝜎 = 10\n",
    "        \n",
    "Incorrectly stated as alternate hypothesis is stated as no difference between the parameter(𝜎) and it's estimate.\n",
    "\n",
    "***************************************************************\n",
    "\n",
    "3. 𝐻0: 𝑥  = 50, 𝐻1: 𝑥  ≠ 50\n",
    "        \n",
    "Incorrectly stated as null hypothesis is stated as no difference between the statistic(x) and it's estimate.\n",
    "\n",
    "***************************************************************\n",
    "\n",
    "4. 𝐻0: 𝑝 = 0.1, 𝐻1: 𝑝 = 0.5\n",
    "        \n",
    "Incorrectly stated as both null and alternate hypothesis is stated as no difference between the parameter(p) and it's estimate.\n",
    "\n",
    "****************************************************************\n",
    "\n",
    "5. 𝐻0: 𝑠 = 30, 𝐻1: 𝑠 > 30\n",
    "        \n",
    "Incorrectly stated as null hypothesis is stated as no difference between the statistic(s) and it's estimate."
   ]
  },
  {
   "cell_type": "markdown",
   "metadata": {},
   "source": [
    "# Problem Statement 2: \n",
    " \n",
    "The college bookstore tells prospective students that the average cost of its textbooks is Rs. 52 with a standard deviation of Rs. 4.50. A group of smart statistics students thinks that the average cost is higher. To test the bookstore’s claim against their alternative, the students will select a random sample of size 100. Assume that the mean from their random sample is Rs. 52.80. Perform a hypothesis test at the 5% level of significance and state your decision"
   ]
  },
  {
   "cell_type": "markdown",
   "metadata": {},
   "source": [
    "###### Solution:"
   ]
  },
  {
   "cell_type": "markdown",
   "metadata": {},
   "source": [
    "We are going to conduct one tailed z-test."
   ]
  },
  {
   "cell_type": "markdown",
   "metadata": {},
   "source": [
    "###### Step-1: State the hypothesis"
   ]
  },
  {
   "cell_type": "markdown",
   "metadata": {},
   "source": [
    "H0:  μ = 52\n",
    "    \n",
    "Ha:  μ > 52"
   ]
  },
  {
   "cell_type": "markdown",
   "metadata": {},
   "source": [
    "###### Step-2: Determine the significance level"
   ]
  },
  {
   "cell_type": "markdown",
   "metadata": {},
   "source": [
    "The given significance level is 0.05."
   ]
  },
  {
   "cell_type": "markdown",
   "metadata": {},
   "source": [
    "###### Step-3: Define the decision Rule"
   ]
  },
  {
   "cell_type": "markdown",
   "metadata": {},
   "source": [
    "Reject H0 if calculated p-value is less than 0.05."
   ]
  },
  {
   "cell_type": "markdown",
   "metadata": {},
   "source": [
    "###### Step-4: Calculate the z statistics"
   ]
  },
  {
   "cell_type": "code",
   "execution_count": 1,
   "metadata": {},
   "outputs": [
    {
     "name": "stdout",
     "output_type": "stream",
     "text": [
      "z score: 1.7777777777777715\n"
     ]
    }
   ],
   "source": [
    "population_mean = 52\n",
    "Std = 4.50\n",
    "N = 100\n",
    "sample_mean = 52.80\n",
    "alpha = 0.05\n",
    "\n",
    "import math\n",
    "\n",
    "z = (sample_mean - population_mean)/(Std/math.sqrt(100))\n",
    "print(\"z score:\", z)"
   ]
  },
  {
   "cell_type": "markdown",
   "metadata": {},
   "source": [
    "###### Step-5: Find the p value"
   ]
  },
  {
   "cell_type": "code",
   "execution_count": 2,
   "metadata": {},
   "outputs": [
    {
     "name": "stdout",
     "output_type": "stream",
     "text": [
      "pvalue: 0.03839999999999999\n"
     ]
    }
   ],
   "source": [
    "#from z table \n",
    "pvalue = 1 - 0.9616\n",
    "print(\"pvalue:\",pvalue)"
   ]
  },
  {
   "cell_type": "markdown",
   "metadata": {},
   "source": [
    "###### Step-6: Conclusion"
   ]
  },
  {
   "cell_type": "markdown",
   "metadata": {},
   "source": [
    "for one tail test, since pvalue < 0.05, we reject the null hypothesis.\n",
    "\n",
    "Therefore, we may conclude that the average cost of textbooks is higher that Rs. 52. "
   ]
  },
  {
   "cell_type": "markdown",
   "metadata": {},
   "source": [
    "# Problem Statement 3:  \n",
    " \n",
    "A certain chemical pollutant in the Genesee River has been constant for several years with mean μ = 34 ppm (parts per million) and standard deviation σ = 8 ppm. A group of factory representatives whose companies discharge liquids into the river is now claiming that they have lowered the average with improved filtration devices. A group of environmentalists will test to see if this is true at the 1% level of significance. Assume \\ that their sample of size 50 gives a mean of 32.5 ppm. Perform a hypothesis test at the 1% level of significance and state your decision. "
   ]
  },
  {
   "cell_type": "markdown",
   "metadata": {},
   "source": [
    "###### Solution:"
   ]
  },
  {
   "cell_type": "markdown",
   "metadata": {},
   "source": [
    "We are going to perform one tailed z-test."
   ]
  },
  {
   "cell_type": "markdown",
   "metadata": {},
   "source": [
    "###### Step-1: State the hypothesis"
   ]
  },
  {
   "cell_type": "markdown",
   "metadata": {},
   "source": [
    "H0:  μ = 34\n",
    "    \n",
    "Ha:  μ < 34"
   ]
  },
  {
   "cell_type": "markdown",
   "metadata": {},
   "source": [
    "###### Step-2: Determine the significance level"
   ]
  },
  {
   "cell_type": "markdown",
   "metadata": {},
   "source": [
    "The given significance level is 0.01."
   ]
  },
  {
   "cell_type": "markdown",
   "metadata": {},
   "source": [
    "###### Step-3: Define the decision Rule"
   ]
  },
  {
   "cell_type": "markdown",
   "metadata": {},
   "source": [
    "Reject H0 if calculated p-value is less than 0.01."
   ]
  },
  {
   "cell_type": "markdown",
   "metadata": {},
   "source": [
    "###### Step-4: Calculate the z statistics"
   ]
  },
  {
   "cell_type": "code",
   "execution_count": 3,
   "metadata": {},
   "outputs": [
    {
     "name": "stdout",
     "output_type": "stream",
     "text": [
      "z score: -1.875\n"
     ]
    }
   ],
   "source": [
    "population_mean = 34\n",
    "std = 8\n",
    "N = 50\n",
    "sample_mean = 32.5\n",
    "alpha = 0.01\n",
    "\n",
    "import math\n",
    "\n",
    "z = (sample_mean - population_mean)/(std/math.sqrt(100))\n",
    "print(\"z score:\", z)"
   ]
  },
  {
   "cell_type": "markdown",
   "metadata": {},
   "source": [
    "###### Step-5: Find the p value"
   ]
  },
  {
   "cell_type": "code",
   "execution_count": 4,
   "metadata": {},
   "outputs": [
    {
     "name": "stdout",
     "output_type": "stream",
     "text": [
      "pvalue: 0.0307\n"
     ]
    }
   ],
   "source": [
    "#from z table \n",
    "pvalue = 0.0307\n",
    "print(\"pvalue:\",pvalue)"
   ]
  },
  {
   "cell_type": "markdown",
   "metadata": {},
   "source": [
    "###### Step-6: Conclusion"
   ]
  },
  {
   "cell_type": "markdown",
   "metadata": {},
   "source": [
    "for one tail test, since pvalue > 0.01, we fail to reject the null hypothesis.\n",
    "\n",
    "Therefore, we may conclude that that claim that companies have lowered the discharge of chemical pollutant is not true."
   ]
  },
  {
   "cell_type": "markdown",
   "metadata": {},
   "source": [
    "# Problem Statement 4:  \n",
    " \n",
    "Based on population figures and other general information on the U.S. population, suppose it has been estimated that, on average, a family of four in the U.S. spends about $1135 annually on dental expenditures. Suppose further that a regional dental association wants to test to determine if this figure is accurate for their area of country. To test this, 22 families of 4 are randomly selected from the population in that area of the country and a log is kept of the family’s dental expenditure for one year. The resulting data are given below. Assuming, that dental expenditure is normally distributed in the population, use the data and an alpha of 0.05 to test the dental association’s hypothesis. \n",
    " \n",
    "1008, 812, 1117, 1323, 1308, 1415, 831, 1021, 1287, 851, 930, 730, 699, 872, 913, 944, 954, 987, 1695, 995, 1003, 994 "
   ]
  },
  {
   "cell_type": "markdown",
   "metadata": {},
   "source": [
    "###### Solution:"
   ]
  },
  {
   "cell_type": "markdown",
   "metadata": {},
   "source": [
    "We are going to perform two tailed t-est."
   ]
  },
  {
   "cell_type": "markdown",
   "metadata": {},
   "source": [
    "###### Step-1: State the hypothesis"
   ]
  },
  {
   "cell_type": "markdown",
   "metadata": {},
   "source": [
    "H0:  μ = 1135\n",
    "    \n",
    "Ha:  μ != 1135"
   ]
  },
  {
   "cell_type": "markdown",
   "metadata": {},
   "source": [
    "###### Step-2: Determine the level of significance"
   ]
  },
  {
   "cell_type": "markdown",
   "metadata": {},
   "source": [
    "The level of significance is 5%."
   ]
  },
  {
   "cell_type": "markdown",
   "metadata": {},
   "source": [
    "###### Step-3: Find the critical value"
   ]
  },
  {
   "cell_type": "markdown",
   "metadata": {},
   "source": [
    "df = 22-1 = 21\n",
    "\n",
    "for 2 tailed test from t table,\n",
    "\n",
    "lower tc = -2.080<br>\n",
    "upper tc = 2.080"
   ]
  },
  {
   "cell_type": "markdown",
   "metadata": {},
   "source": [
    "###### Step-4: Define the decision Rule"
   ]
  },
  {
   "cell_type": "markdown",
   "metadata": {},
   "source": [
    "Reject H0 if calculated t value is not between -2.080 and 2.080."
   ]
  },
  {
   "cell_type": "markdown",
   "metadata": {},
   "source": [
    "###### Step-5: Calculate the t-stat"
   ]
  },
  {
   "cell_type": "code",
   "execution_count": 5,
   "metadata": {},
   "outputs": [
    {
     "name": "stdout",
     "output_type": "stream",
     "text": [
      "t stat: -2.023137479931484\n"
     ]
    }
   ],
   "source": [
    "import statistics as stats\n",
    "import scipy\n",
    "import math\n",
    "\n",
    "data = [1008, 812, 1117, 1323, 1308, 1415, 831, 1021, 1287, 851, 930, 730, 699, 872, 913, 944, 954, 987, 1695, 995, 1003, 994]\n",
    "\n",
    "sample_mean = stats.mean(data)\n",
    "std = stats.stdev(data)\n",
    "population_mean = 1135\n",
    "N = len(data)\n",
    "\n",
    "t = (sample_mean - population_mean)/(std/math.sqrt(N))\n",
    "print(\"t stat:\", t)"
   ]
  },
  {
   "cell_type": "markdown",
   "metadata": {},
   "source": [
    "###### Step-6: Conclusion"
   ]
  },
  {
   "cell_type": "markdown",
   "metadata": {},
   "source": [
    "Since calculated t value is between -2.080 and 2.080 , We fail to reject the null hypothesis.\n",
    "\n",
    "Therefore we may conclude that the average anual dental expenditures is not $1135."
   ]
  },
  {
   "cell_type": "markdown",
   "metadata": {},
   "source": [
    "# Problem Statement 5:  \n",
    " \n",
    "In a report prepared by the Economic Research Department of a major bank the Department manager maintains that the average annual family income on Metropolis is \\\\$48,432. What do you conclude about the validity of the report if a random sample of 400 families shows and average income of \\\\$48,574 with a standard deviation of 2000? "
   ]
  },
  {
   "cell_type": "markdown",
   "metadata": {},
   "source": [
    "###### Solution:"
   ]
  },
  {
   "cell_type": "markdown",
   "metadata": {},
   "source": [
    "We are going to conduct two tailed z-test."
   ]
  },
  {
   "cell_type": "markdown",
   "metadata": {},
   "source": [
    "###### Step-1: State the hypothesis"
   ]
  },
  {
   "cell_type": "markdown",
   "metadata": {},
   "source": [
    "H0: μ = $48,432\n",
    "    \n",
    "Ha: μ != $48,432"
   ]
  },
  {
   "cell_type": "markdown",
   "metadata": {},
   "source": [
    "###### Step-2: Determine the level of significance"
   ]
  },
  {
   "cell_type": "markdown",
   "metadata": {},
   "source": [
    "Assume the level of significance is 5%."
   ]
  },
  {
   "cell_type": "markdown",
   "metadata": {},
   "source": [
    "###### Step-3: Define the decision Rule"
   ]
  },
  {
   "cell_type": "markdown",
   "metadata": {},
   "source": [
    "Reject H0 if calculated p-value is less than 0.05."
   ]
  },
  {
   "cell_type": "markdown",
   "metadata": {},
   "source": [
    "###### Step-4: Calculate the z statistics"
   ]
  },
  {
   "cell_type": "code",
   "execution_count": 6,
   "metadata": {},
   "outputs": [
    {
     "name": "stdout",
     "output_type": "stream",
     "text": [
      "z score: 1.42\n"
     ]
    }
   ],
   "source": [
    "population_mean = 48432\n",
    "std = 2000\n",
    "N = 400\n",
    "sample_mean = 48574\n",
    "alpha = 0.05\n",
    "\n",
    "import math\n",
    "\n",
    "z = (sample_mean - population_mean)/(std/math.sqrt(N))\n",
    "print(\"z score:\", z)"
   ]
  },
  {
   "cell_type": "markdown",
   "metadata": {},
   "source": [
    "###### Step-5: Find the p value"
   ]
  },
  {
   "cell_type": "code",
   "execution_count": 7,
   "metadata": {},
   "outputs": [
    {
     "name": "stdout",
     "output_type": "stream",
     "text": [
      "pvalue: 0.1556\n"
     ]
    }
   ],
   "source": [
    "#from z table\n",
    "#P(Z<1.42) = 0.9222\n",
    "#P(Z>1.42) = 1 - 0.9222 = 0.0778\n",
    "\n",
    "#for 2 tailed test \n",
    "pvalue = 0.0778*2\n",
    "print(\"pvalue:\", pvalue)"
   ]
  },
  {
   "cell_type": "markdown",
   "metadata": {},
   "source": [
    "###### Step-6: Conclusion"
   ]
  },
  {
   "cell_type": "markdown",
   "metadata": {},
   "source": [
    "Since pvalue > 0.05, we fail to reject the null hypothesis.\n",
    "\n",
    "Therefore, we may conclude that the claim that average annual family income on Metropolis is $48,432 is true."
   ]
  },
  {
   "cell_type": "markdown",
   "metadata": {},
   "source": [
    "# Problem Statement 6: \n",
    " \n",
    "Suppose that in past years the average price per square foot for warehouses in the United States has been \\\\$32.28. A national real estate investor wants to determine whether that figure has changed now. The investor hires a researcher who randomly samples 19 warehouses that are for sale across the United States and finds that the mean price per square foot is \\\\$31.67, with a standard deviation of \\\\$1.29. assume that the prices of warehouse footage are normally distributed in population. If the researcher uses a 5% level of significance, what statistical conclusion can be reached? What are the hypotheses? "
   ]
  },
  {
   "cell_type": "markdown",
   "metadata": {},
   "source": [
    "###### Solution:"
   ]
  },
  {
   "cell_type": "markdown",
   "metadata": {},
   "source": [
    "since the sample size is less than 30, We are going to conduct two taild t-test."
   ]
  },
  {
   "cell_type": "markdown",
   "metadata": {},
   "source": [
    "###### Step-1: State the hypothesis"
   ]
  },
  {
   "cell_type": "markdown",
   "metadata": {},
   "source": [
    "H0: μ = $32.28\n",
    "    \n",
    "Ha: μ != $32.28"
   ]
  },
  {
   "cell_type": "markdown",
   "metadata": {},
   "source": [
    "###### Step-2: Determine the level of significance"
   ]
  },
  {
   "cell_type": "markdown",
   "metadata": {},
   "source": [
    "The given level of significance is 5%."
   ]
  },
  {
   "cell_type": "markdown",
   "metadata": {},
   "source": [
    "###### Step-3: Find the critical value"
   ]
  },
  {
   "cell_type": "markdown",
   "metadata": {},
   "source": [
    "degree fd freedom, \n",
    "df = 19-1 = 18\n",
    "\n",
    "for df 18 and level of significance 0.05, \n",
    "\n",
    "lower tc = -2.101<br>\n",
    "upper tc = 2.101"
   ]
  },
  {
   "cell_type": "markdown",
   "metadata": {},
   "source": [
    "###### Step-4: Define the decision Rule"
   ]
  },
  {
   "cell_type": "markdown",
   "metadata": {},
   "source": [
    "Reject H0 if t < -2.101 or is t > 2.101."
   ]
  },
  {
   "cell_type": "markdown",
   "metadata": {},
   "source": [
    "###### Step-5: Calculate the t statistics"
   ]
  },
  {
   "cell_type": "code",
   "execution_count": 8,
   "metadata": {},
   "outputs": [
    {
     "name": "stdout",
     "output_type": "stream",
     "text": [
      "t-score: -2.06118477175179\n"
     ]
    }
   ],
   "source": [
    "population_mean = 32.28\n",
    "sample_mean = 31.67\n",
    "std = 1.29\n",
    "N=19\n",
    "alpha = 0.05\n",
    "\n",
    "import math\n",
    "\n",
    "t = (sample_mean - population_mean)/(std/math.sqrt(N))\n",
    "print(\"t-score:\", t)"
   ]
  },
  {
   "cell_type": "markdown",
   "metadata": {},
   "source": [
    "###### Step-6: Conclusion"
   ]
  },
  {
   "cell_type": "markdown",
   "metadata": {},
   "source": [
    "Since calculated t value is between -2.101 and 2.101 , We fail to reject the null hypothesis for sample size 19.\n",
    "\n",
    "Therefore,we may conclude that there is no sufficient evidence to believe that the average price per square foot has changed."
   ]
  },
  {
   "cell_type": "markdown",
   "metadata": {},
   "source": [
    "# Problem Statement 7: \n",
    " \n",
    "Fill in the blank spaces in the table and draw your conclusions from it. "
   ]
  },
  {
   "cell_type": "raw",
   "metadata": {},
   "source": [
    "Acceptance region       Sample Size         α at μ=50       β at μ=52         β at μ=50.5\n",
    "\n",
    "\n",
    "48.5  < x̄ < 51.5            10\n",
    "\n",
    "  48  < x̄ < 52              10\n",
    "\n",
    "48.81 < x̄ < 51.9            16\n",
    "\n",
    "48.42 < x̄ < 51.58           16"
   ]
  },
  {
   "cell_type": "markdown",
   "metadata": {},
   "source": [
    "###### Solution:"
   ]
  },
  {
   "cell_type": "raw",
   "metadata": {},
   "source": [
    "Acceptance region       Sample Size         α at μ=50       β at μ=52         β at μ=50.5\n",
    "\n",
    "\n",
    "48.5  < x̄ < 51.5            10               0.0574          0.2643             0.8923\n",
    "\n",
    "  48  < x̄ < 52              10               0.0114          0.5000             0.9705\n",
    "\n",
    "48.81 < x̄ < 51.9            16               0.0299          0.0287             0.9840\n",
    "\n",
    "48.42 < x̄ < 51.58           16               0.0114          0.2514             0.9578"
   ]
  },
  {
   "cell_type": "markdown",
   "metadata": {},
   "source": [
    "###### Calculations are as following:"
   ]
  },
  {
   "cell_type": "markdown",
   "metadata": {},
   "source": [
    "### Type I Error:"
   ]
  },
  {
   "cell_type": "markdown",
   "metadata": {},
   "source": [
    "The probability of making a type I error is denoted by α:\n",
    "\n",
    "α = P(type I error)<br>\n",
    "OR<br>\n",
    "α = P(reject H0 when H0 is true)"
   ]
  },
  {
   "cell_type": "markdown",
   "metadata": {},
   "source": [
    "###### α at μ=50"
   ]
  },
  {
   "cell_type": "code",
   "execution_count": 9,
   "metadata": {},
   "outputs": [
    {
     "name": "stdout",
     "output_type": "stream",
     "text": [
      "Test1=>\n",
      "z11: -1.8973665961010278\n",
      "z12: 1.8973665961010278\n",
      "alpha1: 0.0574\n",
      "------------------------------\n",
      "Test2=>\n",
      "z21: -2.5298221281347035\n",
      "z22: 2.5298221281347035\n",
      "alpha2: 0.0114\n",
      "------------------------------\n",
      "Test3=>\n",
      "z31: -1.9039999999999964\n",
      "z32: 3.039999999999998\n",
      "alpha3: 0.0299\n",
      "------------------------------\n",
      "Test4=>\n",
      "z41: -2.5279999999999974\n",
      "z42: 2.5279999999999974\n",
      "alpha4: 0.0114\n"
     ]
    }
   ],
   "source": [
    "import math\n",
    "\n",
    "# for 1st test\n",
    "μ = 50\n",
    "std = 2.5\n",
    "n = 10\n",
    "\n",
    "# alpha1 = P(X¯ < 48.5) + P(X¯ > 51.5)\n",
    "z11 = (48.5-50)/(2.5/math.sqrt(10))\n",
    "z12 = (51.5-50)/(2.5/math.sqrt(10))\n",
    "print(\"Test1=>\")\n",
    "print(\"z11:\",z11)\n",
    "print(\"z12:\",z12)\n",
    "\n",
    "# alpha1 = P(Z < −1.90) +P(Z > 1.90)\n",
    "alpha1 = 0.0287 + 0.0287\n",
    "print(\"alpha1:\", alpha1)\n",
    "print(\"-\"*30)\n",
    "\n",
    "###################################################################\n",
    "\n",
    "# for 2nd test\n",
    "population_mean = 50\n",
    "std = 2.5\n",
    "n = 10\n",
    "\n",
    "# alpha2 = P(X¯ < 48) + P(X¯ > 52)\n",
    "z21 = (48-50)/(2.5/math.sqrt(10))\n",
    "z22 = (52-50)/(2.5/math.sqrt(10))\n",
    "print(\"Test2=>\")\n",
    "print(\"z21:\",z21)\n",
    "print(\"z22:\",z22)\n",
    "\n",
    "# alpha2 = P(Z < −2.53) +P(Z > 2.53)\n",
    "alpha2 = 0.0057 + 0.0057\n",
    "print(\"alpha2:\", alpha2)\n",
    "print(\"-\"*30)\n",
    "\n",
    "###################################################################\n",
    "\n",
    "# for 3nd test\n",
    "population_mean = 50\n",
    "std = 2.5\n",
    "n = 16\n",
    "\n",
    "# alpha3 = P(X¯ < 48.81) + P(X¯ > 51.9)\n",
    "z31 = (48.81-50)/(2.5/math.sqrt(16))\n",
    "z32 = (51.9-50)/(2.5/math.sqrt(16))\n",
    "print(\"Test3=>\")\n",
    "print(\"z31:\",z31)\n",
    "print(\"z32:\",z32)\n",
    "\n",
    "# alpha3 = P(Z < -1.90) + P(Z > 3.04)\n",
    "\n",
    "alpha3 = 0.0287 + 0.0012\n",
    "print(\"alpha3:\", alpha3)\n",
    "\n",
    "print(\"-\"*30)\n",
    "\n",
    "###################################################################\n",
    "\n",
    "# for 4th test\n",
    "population_mean = 50\n",
    "std = 2.5\n",
    "n = 16\n",
    "\n",
    "# alpha4 = P(X¯ < 48.42) + P(X¯ > 51.58)\n",
    "z41 = (48.42-50)/(2.5/math.sqrt(16))\n",
    "z42 = (51.58-50)/(2.5/math.sqrt(16))\n",
    "print(\"Test4=>\")\n",
    "print(\"z41:\",z41)\n",
    "print(\"z42:\",z42)\n",
    "\n",
    "# alpha4 = P(Z < −2.53) +P(Z > 2.53)\n",
    "alpha4 = 0.0057 + 0.0057\n",
    "print(\"alpha4:\", alpha4)"
   ]
  },
  {
   "cell_type": "markdown",
   "metadata": {},
   "source": [
    "### Type II Error:"
   ]
  },
  {
   "cell_type": "markdown",
   "metadata": {},
   "source": [
    "The probability of making a type I error is denoted by β:\n",
    "\n",
    "β = P(type II error)<br>\n",
    "OR<br>\n",
    "β  = P(fail to reject H0 when H0 is false)"
   ]
  },
  {
   "cell_type": "markdown",
   "metadata": {},
   "source": [
    "###### β at μ=52"
   ]
  },
  {
   "cell_type": "code",
   "execution_count": 10,
   "metadata": {},
   "outputs": [
    {
     "name": "stdout",
     "output_type": "stream",
     "text": [
      "Test1=>\n",
      "z11: -4.427188724235731\n",
      "z12: -0.6324555320336759\n",
      "beta1: 0.2643\n",
      "------------------------------\n",
      "Test2=>\n",
      "z21: -5.059644256269407\n",
      "z22: 0.0\n",
      "beta2: 0.5\n",
      "------------------------------\n",
      "Test3=>\n",
      "z31: -5.1039999999999965\n",
      "z32: -0.16000000000000228\n",
      "beta3: 0.0287\n",
      "------------------------------\n",
      "Test4=>\n",
      "z41: -5.727999999999997\n",
      "z42: -0.6720000000000027\n",
      "beta4: 0.2514\n"
     ]
    }
   ],
   "source": [
    "import math\n",
    "\n",
    "# for 1st test\n",
    "μ = 52\n",
    "std = 2.5\n",
    "n = 10\n",
    "\n",
    "# beta1 = P(48.5 ≤ X¯ ≤ 51.5)\n",
    "z11 = (48.5-52)/(2.5/math.sqrt(10))\n",
    "z12 = (51.5-52)/(2.5/math.sqrt(10))\n",
    "print(\"Test1=>\")\n",
    "print(\"z11:\",z11)\n",
    "print(\"z12:\",z12)\n",
    "\n",
    "# beta1 = P(−4.43 ≤ Z ≤ −0.63) = P(Z ≤ −0.63)−P(Z ≤ −4.43)\n",
    "beta1 = 0.2643 - 0\n",
    "print(\"beta1:\", beta1)\n",
    "print(\"-\"*30)\n",
    "\n",
    "###################################################################\n",
    "\n",
    "# for 2nd test\n",
    "population_mean = 52\n",
    "std = 2.5\n",
    "n = 10\n",
    "\n",
    "# beta2 = P(48 ≤ X¯ ≤ 52)\n",
    "z21 = (48-52)/(2.5/math.sqrt(10))\n",
    "z22 = (52-52)/(2.5/math.sqrt(10))\n",
    "print(\"Test2=>\")\n",
    "print(\"z21:\",z21)\n",
    "print(\"z22:\",z22)\n",
    "\n",
    "# beta2 = P(−5.06 ≤ Z ≤ 0.0) = P(Z ≤ 0.0)−P(Z ≤ −5.06)\n",
    "beta2 = 0.50 - 0.00\n",
    "print(\"beta2:\", beta2)\n",
    "print(\"-\"*30)\n",
    "\n",
    "###################################################################\n",
    "\n",
    "# for 3nd test\n",
    "population_mean = 52\n",
    "std = 2.5\n",
    "n = 16\n",
    "\n",
    "# beta3 = P(48.81 ≤ X¯ ≤ 51.9)\n",
    "z31 = (48.81-52)/(2.5/math.sqrt(16))\n",
    "z32 = (51.9-52)/(2.5/math.sqrt(16))\n",
    "print(\"Test3=>\")\n",
    "print(\"z31:\",z31)\n",
    "print(\"z32:\",z32)\n",
    "\n",
    "# beta3 = P(−5.10 ≤ Z ≤ -0.16) = P(Z ≤ -0.16)−P(Z ≤ −5.10)\n",
    "beta3 = 0.0287 - 0.00\n",
    "print(\"beta3:\", beta3)\n",
    "\n",
    "print(\"-\"*30)\n",
    "\n",
    "###################################################################\n",
    "\n",
    "# for 4th test\n",
    "population_mean = 52\n",
    "std = 2.5\n",
    "n = 16\n",
    "\n",
    "# beta4 = P(48.42 ≤ X¯ ≤ 51.58)\n",
    "z41 = (48.42-52)/(2.5/math.sqrt(16))\n",
    "z42 = (51.58-52)/(2.5/math.sqrt(16))\n",
    "print(\"Test4=>\")\n",
    "print(\"z41:\",z41)\n",
    "print(\"z42:\",z42)\n",
    "\n",
    "# beta4 = P(−5.73 ≤ Z ≤ -0.67) = P(Z ≤ -0.67)−P(Z ≤ −5.73)\n",
    "beta4 = 0.2514 - 0.00\n",
    "print(\"beta4:\", beta4)"
   ]
  },
  {
   "cell_type": "markdown",
   "metadata": {},
   "source": [
    "###### β at μ=50.5"
   ]
  },
  {
   "cell_type": "code",
   "execution_count": 11,
   "metadata": {},
   "outputs": [
    {
     "name": "stdout",
     "output_type": "stream",
     "text": [
      "Test1=>\n",
      "z11: -2.5298221281347035\n",
      "z12: 1.2649110640673518\n",
      "beta1: 0.8923\n",
      "------------------------------\n",
      "Test2=>\n",
      "z21: -3.1622776601683795\n",
      "z22: 1.8973665961010278\n",
      "beta2: 0.9705\n",
      "------------------------------\n",
      "Test3=>\n",
      "z31: -2.703999999999996\n",
      "z32: 2.2399999999999975\n",
      "beta3: 0.9840000000000001\n",
      "------------------------------\n",
      "Test4=>\n",
      "z41: -3.327999999999997\n",
      "z42: 1.7279999999999973\n",
      "beta4: 0.9578000000000001\n"
     ]
    }
   ],
   "source": [
    "import math\n",
    "\n",
    "# for 1st test\n",
    "μ = 50.5\n",
    "std = 2.5\n",
    "n = 10\n",
    "\n",
    "# beta1 = P(48.5 ≤ X¯ ≤ 51.5)\n",
    "z11 = (48.5-50.5)/(2.5/math.sqrt(10))\n",
    "z12 = (51.5-50.5)/(2.5/math.sqrt(10))\n",
    "print(\"Test1=>\")\n",
    "print(\"z11:\",z11)\n",
    "print(\"z12:\",z12)\n",
    "\n",
    "# beta1 = P(-2.53 ≤ Z ≤ 1.26) = P(Z ≤ 1.27)−P(Z ≤ -2.53)\n",
    "beta1 = 0.8980 - 0.0057\n",
    "print(\"beta1:\", beta1)\n",
    "print(\"-\"*30)\n",
    "\n",
    "###################################################################\n",
    "\n",
    "# for 2nd test\n",
    "population_mean = 50.5\n",
    "std = 2.5\n",
    "n = 10\n",
    "\n",
    "# beta2 = P(48 ≤ X¯ ≤ 52)\n",
    "z21 = (48-50.5)/(2.5/math.sqrt(10))\n",
    "z22 = (52-50.5)/(2.5/math.sqrt(10))\n",
    "print(\"Test2=>\")\n",
    "print(\"z21:\",z21)\n",
    "print(\"z22:\",z22)\n",
    "\n",
    "# beta2 = P(−3.16 ≤ Z ≤ 1.90) = P(Z ≤ 1.90)−P(Z ≤ −3.16)\n",
    "beta2 = 0.9713 - 0.0008\n",
    "print(\"beta2:\", beta2)\n",
    "print(\"-\"*30)\n",
    "\n",
    "###################################################################\n",
    "\n",
    "# for 3nd test\n",
    "population_mean = 50.5\n",
    "std = 2.5\n",
    "n = 16\n",
    "\n",
    "# beta3 = P(48.81 ≤ X¯ ≤ 51.9)\n",
    "z31 = (48.81-50.5)/(2.5/math.sqrt(16))\n",
    "z32 = (51.9-50.5)/(2.5/math.sqrt(16))\n",
    "print(\"Test3=>\")\n",
    "print(\"z31:\",z31)\n",
    "print(\"z32:\",z32)\n",
    "\n",
    "# beta3 = P(-2.70 ≤ Z ≤ 2.24) = P(Z ≤ 2.24)−P(Z ≤ -2.70)\n",
    "beta3 = 0.9875 - 0.0035\n",
    "print(\"beta3:\", beta3)\n",
    "\n",
    "print(\"-\"*30)\n",
    "\n",
    "###################################################################\n",
    "\n",
    "# for 4th test\n",
    "population_mean = 52\n",
    "std = 2.5\n",
    "n = 16\n",
    "\n",
    "# beta4 = P(48.42 ≤ X¯ ≤ 51.58)\n",
    "z41 = (48.42-50.5)/(2.5/math.sqrt(16))\n",
    "z42 = (51.58-50.5)/(2.5/math.sqrt(16))\n",
    "print(\"Test4=>\")\n",
    "print(\"z41:\",z41)\n",
    "print(\"z42:\",z42)\n",
    "\n",
    "# beta4 = P(−3.33 ≤ Z ≤ 1.73) = P(Z ≤ 1.73)−P(Z ≤ −3.33)\n",
    "beta4 = 0.9582 - 0.0004\n",
    "print(\"beta4:\", beta4)"
   ]
  },
  {
   "cell_type": "markdown",
   "metadata": {},
   "source": [
    "#### Conclusion:"
   ]
  },
  {
   "cell_type": "markdown",
   "metadata": {},
   "source": [
    "* Type I and type II errors are related. When sample size n is fixed, a decrease in the probability of one type of error always results in an increase in the probability of the other\n",
    "* An increase in sample size will generally reduce both α and β, provided that the critical values are held constant.\n",
    "* Since we can directly control the probability of wrongly rejecting H0, we always think of rejection of the null hypothesis H0 as a strong conclusion.\n",
    "* The probability of type II error β is not a constant, but depends on the true value of the parameter and the sample size. It is customary to think of the decision to accept H0 as a weak conclusion, unless we know that β is considerably small."
   ]
  },
  {
   "cell_type": "markdown",
   "metadata": {},
   "source": [
    "# Problem Statement 8: \n",
    " \n",
    "Find the t-score for a sample size of 16 taken from a population with mean 10 when the sample mean is 12 and the sample standard deviation is 1.5. "
   ]
  },
  {
   "cell_type": "code",
   "execution_count": 12,
   "metadata": {},
   "outputs": [
    {
     "name": "stdout",
     "output_type": "stream",
     "text": [
      "t score 5.333333333333333\n"
     ]
    }
   ],
   "source": [
    "#Given parameters\n",
    "population_mean = 10\n",
    "sample_mean = 12\n",
    "std = 1.5\n",
    "N = 16\n",
    "\n",
    "#Calculate t-score\n",
    "import math\n",
    "\n",
    "t = (sample_mean - population_mean)/(std/math.sqrt(N))\n",
    "print(\"t score\", t)"
   ]
  },
  {
   "cell_type": "markdown",
   "metadata": {},
   "source": [
    "# Problem Statement 9: \n",
    " \n",
    "Find the t-score below which we can expect 99% of sample means will fall if samples of size 16 are taken from a normally distributed population. "
   ]
  },
  {
   "cell_type": "markdown",
   "metadata": {},
   "source": [
    "###### Find the t-score"
   ]
  },
  {
   "cell_type": "code",
   "execution_count": 13,
   "metadata": {},
   "outputs": [
    {
     "name": "stdout",
     "output_type": "stream",
     "text": [
      "t-score =  2.602\n"
     ]
    }
   ],
   "source": [
    "#Degree of freedom would be 16-1 = 15\n",
    "#from t distribution table,for 15 degree of freedom and 0.01 level of significance the t-score is 2.602.\n",
    "\n",
    "print(\"t-score =  2.602\")"
   ]
  },
  {
   "cell_type": "markdown",
   "metadata": {},
   "source": [
    "# Problem Statement 10:  \n",
    " \n",
    "If a random sample of size 25 drawn from a normal population gives a mean of 60 and a standard deviation of 4, find the range of t-scores where we can expect to find the middle 95% of all sample means. Compute the probability that (−𝑡0.05 <𝑡<𝑡0.10). "
   ]
  },
  {
   "cell_type": "markdown",
   "metadata": {},
   "source": [
    "###### Range of t-scores"
   ]
  },
  {
   "cell_type": "code",
   "execution_count": 14,
   "metadata": {},
   "outputs": [
    {
     "name": "stdout",
     "output_type": "stream",
     "text": [
      "Range of t-score: -2.064<t<2.064\n"
     ]
    }
   ],
   "source": [
    "#Degree of freedom would be 25-1 = 24\n",
    "#from t distribution table, for two tailed t-test, 24 degree of freedom and 0.05 level of significance the range of t-scores are as below \n",
    "\n",
    "print(\"Range of t-score:\", \"-2.064<t<2.064\")"
   ]
  },
  {
   "cell_type": "markdown",
   "metadata": {},
   "source": [
    "###### Probability of (−𝑡0.05 <𝑡<𝑡0.10)"
   ]
  },
  {
   "cell_type": "code",
   "execution_count": 15,
   "metadata": {},
   "outputs": [
    {
     "name": "stdout",
     "output_type": "stream",
     "text": [
      "Probability of (−𝑡0.05 <𝑡<𝑡0.10) is 0.85\n"
     ]
    }
   ],
   "source": [
    "#P(−𝑡0.05 <𝑡<𝑡0.10) = 1-0.05-0.10 = 0.85\n",
    "\n",
    "print(\"Probability of (−𝑡0.05 <𝑡<𝑡0.10) is 0.85\")"
   ]
  },
  {
   "cell_type": "markdown",
   "metadata": {},
   "source": [
    "# Problem Statement 11: \n",
    " \n",
    "Two-tailed test for difference between two population means<br> \n",
    "Is there evidence to conclude that the number of people travelling from Bangalore to Chennai is different from the number of people travelling from Bangalore to Hosur in a week, given the following: \n",
    "\n",
    "Population 1: Bangalore to Chennai<br> \n",
    "n1 = 1200<br>\n",
    "x1 = 452<br>\n",
    "s1 = 212\n",
    "\n",
    "Population 2: Bangalore to Hosur<br> \n",
    "n2 = 800<br>\n",
    "x2 = 523  \n",
    "s2 = 185 "
   ]
  },
  {
   "cell_type": "markdown",
   "metadata": {},
   "source": [
    "###### Solution:"
   ]
  },
  {
   "cell_type": "markdown",
   "metadata": {},
   "source": [
    "Since n1>30 and n2>30, we will conduct z-test"
   ]
  },
  {
   "cell_type": "markdown",
   "metadata": {},
   "source": [
    "###### Step-1: State the hypothesis"
   ]
  },
  {
   "cell_type": "markdown",
   "metadata": {},
   "source": [
    "H0: μ1 – μ2 = 0\n",
    "    \n",
    "H0: μ1 – μ2 != 0    "
   ]
  },
  {
   "cell_type": "markdown",
   "metadata": {},
   "source": [
    "###### Step-2: Determine the confidence interval"
   ]
  },
  {
   "cell_type": "markdown",
   "metadata": {},
   "source": [
    "Assume the confidence level is 95%"
   ]
  },
  {
   "cell_type": "markdown",
   "metadata": {},
   "source": [
    "###### Step-3: Setup the decision rule"
   ]
  },
  {
   "cell_type": "markdown",
   "metadata": {},
   "source": [
    "This is a two-tailed test, using a Z statistic and a 5% level of significance. Reject H0 if Z < -1.960 or is Z > 1.960."
   ]
  },
  {
   "cell_type": "markdown",
   "metadata": {},
   "source": [
    "###### Step-4: Calculate the z-score"
   ]
  },
  {
   "cell_type": "code",
   "execution_count": 16,
   "metadata": {},
   "outputs": [
    {
     "name": "stdout",
     "output_type": "stream",
     "text": [
      "z-score -7.926428526759299\n"
     ]
    }
   ],
   "source": [
    "#Given parameters\n",
    "n1 = 1200\n",
    "x1 = 452\n",
    "s1 = 212\n",
    "n2 = 800\n",
    "x2 = 523  \n",
    "s2 = 185 \n",
    "\n",
    "import math\n",
    "\n",
    "z = (x1-x2)/math.sqrt(((s1**2)/n1)+ ((s2**2)/n2))\n",
    "print(\"z-score\",z)"
   ]
  },
  {
   "cell_type": "markdown",
   "metadata": {},
   "source": [
    "###### Step-5: Conclusion"
   ]
  },
  {
   "cell_type": "markdown",
   "metadata": {},
   "source": [
    "since z < -1.960, we reject the null hypothesis.\n",
    "\n",
    "Therefore, we may conclude that the number of people travelling from Bangalore to Chennai is different from the number of people travelling from Bangalore to Hosur in a week"
   ]
  },
  {
   "cell_type": "markdown",
   "metadata": {},
   "source": [
    "# Problem Statement 12: \n",
    " \n",
    "Is there evidence to conclude that the number of people preferring Duracell battery is different from the number of people preferring Energizer battery, given the following: \n",
    "\n",
    "Population 1: Duracell<br> \n",
    "n1 = 100  \n",
    "x1 = 308  \n",
    "s1 = 84 \n",
    "\n",
    "Population 2: Energizer<br>\n",
    "n2 = 100<br> \n",
    "x2 = 254  \n",
    "s2 = 67 "
   ]
  },
  {
   "cell_type": "markdown",
   "metadata": {},
   "source": [
    "###### solution:"
   ]
  },
  {
   "cell_type": "markdown",
   "metadata": {},
   "source": [
    "Since n1>30 and n2>30, we will conduct z test"
   ]
  },
  {
   "cell_type": "markdown",
   "metadata": {},
   "source": [
    "###### Step-1: State the hypothesis"
   ]
  },
  {
   "cell_type": "markdown",
   "metadata": {},
   "source": [
    "H0: μ1 – μ2 = 0\n",
    "    \n",
    "H0: μ1 – μ2 != 0"
   ]
  },
  {
   "cell_type": "markdown",
   "metadata": {},
   "source": [
    "###### Step-2: Determine the confidence interval"
   ]
  },
  {
   "cell_type": "markdown",
   "metadata": {},
   "source": [
    "Assume the confidence level is 95%"
   ]
  },
  {
   "cell_type": "markdown",
   "metadata": {},
   "source": [
    "###### Step-3: Setup the decision rule"
   ]
  },
  {
   "cell_type": "markdown",
   "metadata": {},
   "source": [
    "This is a two-tailed test, using a z statistic and a 5% level of significance. Reject H0 if Z < -1.960 or is Z > 1.960."
   ]
  },
  {
   "cell_type": "markdown",
   "metadata": {},
   "source": [
    "###### Step-4: Calculate the z-score"
   ]
  },
  {
   "cell_type": "code",
   "execution_count": 17,
   "metadata": {},
   "outputs": [
    {
     "name": "stdout",
     "output_type": "stream",
     "text": [
      "z-score 5.025702668336442\n"
     ]
    }
   ],
   "source": [
    "#Given Paraeters\n",
    "n1 = 100\n",
    "x1 = 308\n",
    "s1 = 84\n",
    "n2 = 100\n",
    "x2 = 254\n",
    "s2 = 67\n",
    "\n",
    "import math\n",
    "\n",
    "z = (x1-x2)/math.sqrt(((s1**2)/n1)+ ((s2**2)/n2))\n",
    "print(\"z-score\",z)"
   ]
  },
  {
   "cell_type": "markdown",
   "metadata": {},
   "source": [
    "###### Step-5: Conclusion"
   ]
  },
  {
   "cell_type": "markdown",
   "metadata": {},
   "source": [
    "Since z>1.960, we reject the null hypothesis.\n",
    "\n",
    "Therefore, we may conclude that there is a sufficient evidence that the number of people preferring Duracell battery is different from the number of people preferring Energizer battery."
   ]
  },
  {
   "cell_type": "markdown",
   "metadata": {},
   "source": [
    "# Problem Statement 13:  \n",
    " \n",
    "Pooled estimate of the population variance<br>\n",
    "Does the data provide sufficient evidence to conclude that average percentage increase in the price of sugar differs when it is sold at two different prices?\n",
    "\n",
    "Population 1:<br>\n",
    "Price of sugar = Rs. 27.50<br> \n",
    "n1 = 14<br> \n",
    "x1 = 0.317%<br> \n",
    "s1 = 0.12% \n",
    "\n",
    "Population 2:<br> \n",
    "Price of sugar = Rs. 20.00<br> \n",
    "n2 = 9<br> \n",
    "x2 = 0.21%<br> \n",
    "s2 = 0.11% "
   ]
  },
  {
   "cell_type": "markdown",
   "metadata": {},
   "source": [
    "###### Solution:"
   ]
  },
  {
   "cell_type": "markdown",
   "metadata": {},
   "source": [
    "Since n1<30 and n2<30, we will conduct two tailed t test."
   ]
  },
  {
   "cell_type": "markdown",
   "metadata": {},
   "source": [
    "###### Step-1: State the Hypothesis"
   ]
  },
  {
   "cell_type": "markdown",
   "metadata": {},
   "source": [
    "H0: μ1 – μ2 = 0\n",
    "    \n",
    "Ha: μ1 – μ2 != 0"
   ]
  },
  {
   "cell_type": "markdown",
   "metadata": {},
   "source": [
    "###### Step-2: Determine the confidence interval"
   ]
  },
  {
   "cell_type": "markdown",
   "metadata": {},
   "source": [
    "Assume the confidence level is 95%"
   ]
  },
  {
   "cell_type": "markdown",
   "metadata": {},
   "source": [
    "###### Step-3: Find the critical value"
   ]
  },
  {
   "cell_type": "markdown",
   "metadata": {},
   "source": [
    "degree of freedom,\n",
    "df = 14+9-2 = 21\n",
    "\n",
    "for df 21 and level of significance 0.05, \n",
    "\n",
    "lower tc value = -2.080<br>\n",
    "upper tc value = 2.080"
   ]
  },
  {
   "cell_type": "markdown",
   "metadata": {},
   "source": [
    "###### Step-4: Setup the decision rule"
   ]
  },
  {
   "cell_type": "markdown",
   "metadata": {},
   "source": [
    "Reject H0 if t < -2.080 or is t > 2.080."
   ]
  },
  {
   "cell_type": "markdown",
   "metadata": {},
   "source": [
    "###### Step-5:Calculate t score using pooled t procedure"
   ]
  },
  {
   "cell_type": "code",
   "execution_count": 18,
   "metadata": {},
   "outputs": [
    {
     "name": "stdout",
     "output_type": "stream",
     "text": [
      "t-score: 2.15355322387416\n"
     ]
    }
   ],
   "source": [
    "#Given Parameters\n",
    "n1 = 14\n",
    "x1 = 0.317\n",
    "s1 = 0.12\n",
    "n2 = 9\n",
    "x2 = 0.210\n",
    "s2 = 0.11\n",
    "\n",
    "import math\n",
    "\n",
    "#The pooled estimator of the variance\n",
    "var = (((s1**2)*(n1-1))+ ((s2**2)*(n2-1)))/(n1+n2-2)\n",
    "var\n",
    "\n",
    "\n",
    "# t value\n",
    "t = (x1-x2)/math.sqrt(var*((1/n1)+(1/n2)))\n",
    "print(\"t-score:\", t)"
   ]
  },
  {
   "cell_type": "markdown",
   "metadata": {},
   "source": [
    "###### Step-6: Conclusion"
   ]
  },
  {
   "cell_type": "markdown",
   "metadata": {},
   "source": [
    "Since t > 2.080, we can reject the null hypothesis.\n",
    "\n",
    "We may conclude that average percentage increase in the price of sugar is greater when it is sold at Rs. 27.50 than it is when sold for Rs. 20."
   ]
  },
  {
   "cell_type": "markdown",
   "metadata": {},
   "source": [
    "# Problem Statement 14:   \n",
    "\n",
    "The manufacturers of compact disk players want to test whether a small price reduction is enough to increase sales of their product. Is there evidence that the small price reduction is enough to increase sales of compact disk players?\n",
    "\n",
    "Population 1: Before reduction<br>\n",
    "n1 = 15<br> \n",
    "x1 = Rs. 6598<br> \n",
    "s1 = Rs. 844 \n",
    "\n",
    "\n",
    "Population 2: After reduction<br> \n",
    "n2 = 12<br> \n",
    "x2 = RS. 6870<br> \n",
    "s2 = Rs. 669 "
   ]
  },
  {
   "cell_type": "markdown",
   "metadata": {},
   "source": [
    "###### Solution:"
   ]
  },
  {
   "cell_type": "markdown",
   "metadata": {},
   "source": [
    "Since n1<30 and n2<30, we will conduct right-tailed t test to determine whether reducing the price increaces the sales. "
   ]
  },
  {
   "cell_type": "markdown",
   "metadata": {},
   "source": [
    "###### Step-1: State the hypothesis"
   ]
  },
  {
   "cell_type": "markdown",
   "metadata": {},
   "source": [
    "H0: μ1 – μ2 >= 0\n",
    "    \n",
    "Ha: μ1 – μ2 < 0"
   ]
  },
  {
   "cell_type": "markdown",
   "metadata": {},
   "source": [
    "###### Step-2: Determine the confidence interval"
   ]
  },
  {
   "cell_type": "markdown",
   "metadata": {},
   "source": [
    "Assume the confidence level is 95%"
   ]
  },
  {
   "cell_type": "markdown",
   "metadata": {},
   "source": [
    "###### Step-3: Find the critical value"
   ]
  },
  {
   "cell_type": "markdown",
   "metadata": {},
   "source": [
    "degree of freedom,\n",
    "df = 15+12-2 = 25\n",
    "\n",
    "for df 25 and level of significance 0.05, the tc value is 1.708."
   ]
  },
  {
   "cell_type": "markdown",
   "metadata": {},
   "source": [
    "###### Step-4: Setup the decision rule"
   ]
  },
  {
   "cell_type": "markdown",
   "metadata": {},
   "source": [
    "Reject H0 if t < -1.708 or is t > 1.708."
   ]
  },
  {
   "cell_type": "markdown",
   "metadata": {},
   "source": [
    "###### Step-5: Calculate t score"
   ]
  },
  {
   "cell_type": "markdown",
   "metadata": {},
   "source": [
    "We assume equal variance of the populations of sales at the two price levels, hence we will use pooled t procedure to calculate t score."
   ]
  },
  {
   "cell_type": "code",
   "execution_count": 19,
   "metadata": {},
   "outputs": [
    {
     "name": "stdout",
     "output_type": "stream",
     "text": [
      "t-score: -0.9098300343990461\n"
     ]
    }
   ],
   "source": [
    "#Given Parameters\n",
    "n1 = 15\n",
    "x1 = 6598\n",
    "s1 = 844\n",
    "n2 = 12\n",
    "x2 = 6870\n",
    "s2 = 669\n",
    "\n",
    "import math\n",
    "\n",
    "\n",
    "#The pooled estimator of the variance\n",
    "var = (((s1**2)*(n1-1))+ ((s2**2)*(n2-1)))/(n1+n2-2)\n",
    "var\n",
    "\n",
    "\n",
    "# t value\n",
    "t = (x1-x2)/math.sqrt(var*((1/n1)+(1/n2)))\n",
    "print(\"t-score:\", t)"
   ]
  },
  {
   "cell_type": "markdown",
   "metadata": {},
   "source": [
    "###### Step-6: Conclusion"
   ]
  },
  {
   "cell_type": "markdown",
   "metadata": {},
   "source": [
    "Since the value of t statisctis falls between -1.706 and 1.706, we fail to reject the null hypothesis.\n",
    "\n",
    "We may conclude that the small price reduction is not enough to increase sales of compact disk players."
   ]
  },
  {
   "cell_type": "markdown",
   "metadata": {},
   "source": [
    "# Problem Statement 15:  \n",
    " \n",
    "Comparisons of two population proportions when the hypothesized difference is zero Carry out a two-tailed test of the equality of banks’ share of the car loan market in 1980 and 1995. \n",
    "\n",
    "Population 1: 1980<br> \n",
    "n1 = 1000<br> \n",
    "x1 = 53<br> \n",
    "p1 = 0.53 \n",
    "\n",
    "Population 2: 1985<br> \n",
    "n2 = 100<br> \n",
    "x2 = 43<br> \n",
    "p2 = 0.53"
   ]
  },
  {
   "cell_type": "markdown",
   "metadata": {},
   "source": [
    "###### Solution:"
   ]
  },
  {
   "cell_type": "markdown",
   "metadata": {},
   "source": [
    "Since n1>30 and n2>30, we will conduct z test."
   ]
  },
  {
   "cell_type": "markdown",
   "metadata": {},
   "source": [
    "###### Step-1: State the hypothesis"
   ]
  },
  {
   "cell_type": "markdown",
   "metadata": {},
   "source": [
    "H0: p1-p2 = 0\n",
    "    \n",
    "Ha: p1-p2 != 0"
   ]
  },
  {
   "cell_type": "markdown",
   "metadata": {},
   "source": [
    "###### Step-2: Determine the confidence interval"
   ]
  },
  {
   "cell_type": "markdown",
   "metadata": {},
   "source": [
    "Assume the confidence level is 95%"
   ]
  },
  {
   "cell_type": "markdown",
   "metadata": {},
   "source": [
    "###### Step-3: Setup the decision rule"
   ]
  },
  {
   "cell_type": "markdown",
   "metadata": {},
   "source": [
    "This is a two-tailed test, using a Z statistic and a 5% level of significance. Reject H0 if z < -1.960 or is z > 1.960."
   ]
  },
  {
   "cell_type": "markdown",
   "metadata": {},
   "source": [
    "###### Step-4: Calculate z score"
   ]
  },
  {
   "cell_type": "code",
   "execution_count": 20,
   "metadata": {},
   "outputs": [
    {
     "name": "stdout",
     "output_type": "stream",
     "text": [
      "z-score: 1.4153462926807452\n"
     ]
    }
   ],
   "source": [
    "#Given parameters\n",
    "n1 = 100\n",
    "x1 = 53\n",
    "p1 = 0.53\n",
    "n2 = 100\n",
    "x2 = 43\n",
    "p2 = 0.43\n",
    "\n",
    "\n",
    "import math\n",
    "\n",
    "#Combined sample proportion\n",
    "p = (x1+x2)/(n1+n2)\n",
    "\n",
    "#z score\n",
    "z = (p1-p2)/math.sqrt((p*(1-p))*((1/n1)+(1/n2)))\n",
    "print(\"z-score:\", z)"
   ]
  },
  {
   "cell_type": "markdown",
   "metadata": {},
   "source": [
    "###### Step-5: Conclusion"
   ]
  },
  {
   "cell_type": "markdown",
   "metadata": {},
   "source": [
    "The z score falls within -1.96 < z < 1.96, hence we fail to reject the null hypothesis.\n",
    "\n",
    "Even if we use the significance level as 10%, the z statistics falls within non-rejection region. Hence we may conclude that there is a sufficient evidence that the share of banks in the car loan market has changed from 1980 to 1995."
   ]
  },
  {
   "cell_type": "markdown",
   "metadata": {},
   "source": [
    "# Problem Statement 16:  \n",
    " \n",
    "Carry out a one-tailed test to determine whether the population proportion of traveler’s check buyers who buy at least $2500 in checks when sweepstakes prizes are offered as at least 10% higher than the proportion of such buyers when no sweepstakes are on. \n",
    "\n",
    "Population 1: With sweepstakes<br>\n",
    "n1 = 300<br> \n",
    "x1 = 120<br> \n",
    "p1 = 0.40 \n",
    "\n",
    "Population 2: No sweepstakes<br> \n",
    "n2 = 700<br> \n",
    "x2 = 140<br>\n",
    "p2= 0.20 "
   ]
  },
  {
   "cell_type": "markdown",
   "metadata": {},
   "source": [
    "###### Solution:"
   ]
  },
  {
   "cell_type": "markdown",
   "metadata": {},
   "source": [
    "Since n1>30 and n2>30, we will conduct z test."
   ]
  },
  {
   "cell_type": "markdown",
   "metadata": {},
   "source": [
    "###### Step-1: State the hypothesis"
   ]
  },
  {
   "cell_type": "markdown",
   "metadata": {},
   "source": [
    "H0: p1-p2 <= 0.10\n",
    "\n",
    "Ha: p1-p2 > 0.10"
   ]
  },
  {
   "cell_type": "markdown",
   "metadata": {},
   "source": [
    "###### Step-2: Determine the confidence interval"
   ]
  },
  {
   "cell_type": "markdown",
   "metadata": {},
   "source": [
    "Assume the confidence level is 95%"
   ]
  },
  {
   "cell_type": "markdown",
   "metadata": {},
   "source": [
    "###### Step-3: Setup the decision rule"
   ]
  },
  {
   "cell_type": "markdown",
   "metadata": {},
   "source": [
    "This is a two-tailed test, using a Z statistic and a 5% level of significance. Reject H0 if z < -1.960 or is z > 1.960."
   ]
  },
  {
   "cell_type": "markdown",
   "metadata": {},
   "source": [
    "###### Step-4: Calculate z score"
   ]
  },
  {
   "cell_type": "code",
   "execution_count": 21,
   "metadata": {},
   "outputs": [
    {
     "name": "stdout",
     "output_type": "stream",
     "text": [
      "z-score: 3.303749523611152\n"
     ]
    }
   ],
   "source": [
    "#Given parameters\n",
    "n1 = 300\n",
    "x1 = 120\n",
    "p1 = 0.40\n",
    "n2 = 700\n",
    "x2 = 140\n",
    "p2= 0.20 \n",
    "\n",
    "import math\n",
    "\n",
    "#Combined sample proportion\n",
    "p = (x1+x2)/(n1+n2)\n",
    "\n",
    "#z score\n",
    "z = ((p1-p2)-0.10)/math.sqrt((p*(1-p))*((1/n1)+(1/n2)))\n",
    "print(\"z-score:\", z)"
   ]
  },
  {
   "cell_type": "markdown",
   "metadata": {},
   "source": [
    "###### Step-5: Conclusion"
   ]
  },
  {
   "cell_type": "markdown",
   "metadata": {},
   "source": [
    "The z score falls outside -1.96 < z < 1.96, hence we reject the null hypothesis.\n",
    "\n",
    "Since the value of the test statistic is above the critical point, even for a level of significance as small as 0.001, the null hypothesis may be rejected, and we may conclude that the proportion of customers buying at least $2500 of travelers checks is at least 10% higher when sweepstakes are on."
   ]
  },
  {
   "cell_type": "markdown",
   "metadata": {},
   "source": [
    "# Problem Statement 17:  \n",
    " \n",
    "A die is thrown 132 times with the following results: Number turned up: 1, 2, 3, 4, 5, 6 Frequency: 16, 20, 25, 14, 29, 28 Is the die unbiased? Consider the degrees of freedom as p -1. "
   ]
  },
  {
   "cell_type": "markdown",
   "metadata": {},
   "source": [
    "###### Solution:"
   ]
  },
  {
   "cell_type": "markdown",
   "metadata": {},
   "source": [
    "We are going to perform chi-square independence test"
   ]
  },
  {
   "cell_type": "markdown",
   "metadata": {},
   "source": [
    "###### Step-1: State the hypothesis"
   ]
  },
  {
   "cell_type": "markdown",
   "metadata": {},
   "source": [
    "H0:The die is unbiased.\n",
    "    \n",
    "Ha:The die is not unbiased."
   ]
  },
  {
   "cell_type": "markdown",
   "metadata": {},
   "source": [
    "###### Step-2: Determine the confidence interval"
   ]
  },
  {
   "cell_type": "markdown",
   "metadata": {},
   "source": [
    "Assume the confidence level is 95%"
   ]
  },
  {
   "cell_type": "markdown",
   "metadata": {},
   "source": [
    "###### Step-3: Find the critical value"
   ]
  },
  {
   "cell_type": "code",
   "execution_count": 22,
   "metadata": {},
   "outputs": [
    {
     "data": {
      "text/plain": [
       "11.070497693516351"
      ]
     },
     "execution_count": 22,
     "metadata": {},
     "output_type": "execute_result"
    }
   ],
   "source": [
    "from scipy import stats\n",
    "\n",
    "#degree of freedom\n",
    "df = 6 -1\n",
    "df\n",
    "\n",
    "#Find the critical value\n",
    "stats.chi2.ppf(0.95,df)"
   ]
  },
  {
   "cell_type": "markdown",
   "metadata": {},
   "source": [
    "###### Step-4: Setup the decision rule"
   ]
  },
  {
   "cell_type": "markdown",
   "metadata": {},
   "source": [
    "Using the chi suqare statistic and a 5% level of significance. Reject H0 if stat > 11.07."
   ]
  },
  {
   "cell_type": "markdown",
   "metadata": {},
   "source": [
    "###### Step-5: Calculate the test Statistics"
   ]
  },
  {
   "cell_type": "markdown",
   "metadata": {},
   "source": [
    "On the hypothesis that the die is unbiased we should expect the frequency of each number to be 132/6 =22."
   ]
  },
  {
   "cell_type": "code",
   "execution_count": 23,
   "metadata": {},
   "outputs": [
    {
     "data": {
      "text/plain": [
       "Power_divergenceResult(statistic=9.0, pvalue=0.1090641579497725)"
      ]
     },
     "execution_count": 23,
     "metadata": {},
     "output_type": "execute_result"
    }
   ],
   "source": [
    "from scipy import stats\n",
    "\n",
    "#Goodness of fit\n",
    "stats.chisquare([16, 20, 25, 14, 29, 28],[22,22,22,22,22,22])"
   ]
  },
  {
   "cell_type": "markdown",
   "metadata": {},
   "source": [
    "###### Step-6: Conclusion"
   ]
  },
  {
   "cell_type": "markdown",
   "metadata": {},
   "source": [
    "Since the calculated value of stat is less than 11.07, we fail to reject the null hypothesis.\n",
    "\n",
    "We may conclude that the die is unbiased."
   ]
  },
  {
   "cell_type": "markdown",
   "metadata": {},
   "source": [
    "# Problem Statement 18:  \n",
    " \n",
    "In a certain town, there are about one million eligible voters. A simple random sample of 10,000 eligible voters was chosen to study the relationship between gender and participation in the last election. The results are summarized in the following 2X2 (read two by two) contingency table:  "
   ]
  },
  {
   "cell_type": "raw",
   "metadata": {},
   "source": [
    "             Men          women\n",
    "\t\t\t \n",
    "Voted        2792          3591\n",
    "\n",
    "Not Voted    1486          2131"
   ]
  },
  {
   "cell_type": "markdown",
   "metadata": {},
   "source": [
    "We would want to check whether being a man or a woman (columns) is independent of having voted in the last election (rows). In other words, is “gender and voting independent”? "
   ]
  },
  {
   "cell_type": "markdown",
   "metadata": {},
   "source": [
    "###### Solution:"
   ]
  },
  {
   "cell_type": "markdown",
   "metadata": {},
   "source": [
    "We are going to perform chi-square independence test"
   ]
  },
  {
   "cell_type": "markdown",
   "metadata": {},
   "source": [
    "###### Step-1: State the null hypothesis"
   ]
  },
  {
   "cell_type": "markdown",
   "metadata": {},
   "source": [
    "H0 = Gender and voting are independent\n",
    "\n",
    "Ha = Gender and voting are dependent"
   ]
  },
  {
   "cell_type": "markdown",
   "metadata": {},
   "source": [
    "###### Step-2:Determine the confidence interval"
   ]
  },
  {
   "cell_type": "markdown",
   "metadata": {},
   "source": [
    "Assume the confidence level is 95%."
   ]
  },
  {
   "cell_type": "markdown",
   "metadata": {},
   "source": [
    "###### Step-3: Find the critical value"
   ]
  },
  {
   "cell_type": "code",
   "execution_count": 24,
   "metadata": {},
   "outputs": [
    {
     "data": {
      "text/plain": [
       "3.841458820694124"
      ]
     },
     "execution_count": 24,
     "metadata": {},
     "output_type": "execute_result"
    }
   ],
   "source": [
    "from scipy import stats\n",
    "\n",
    "#degree of freedom\n",
    "df = (2 -1)*(2-1)\n",
    "df\n",
    "\n",
    "#Find the critical value\n",
    "stats.chi2.ppf(0.95,df)"
   ]
  },
  {
   "cell_type": "markdown",
   "metadata": {},
   "source": [
    "###### Step-4: setup the decision rule"
   ]
  },
  {
   "cell_type": "markdown",
   "metadata": {},
   "source": [
    "Using the chi suqare statistic and a 5% level of significance. Reject H0 if stat > 3.84."
   ]
  },
  {
   "cell_type": "markdown",
   "metadata": {},
   "source": [
    "###### Step-5: Find the stats"
   ]
  },
  {
   "cell_type": "code",
   "execution_count": 25,
   "metadata": {},
   "outputs": [
    {
     "name": "stdout",
     "output_type": "stream",
     "text": [
      "Contingency table: [[2792, 3591], [1486, 2131]] \n",
      "\n",
      "test stat: 6.552337973968181 \n",
      "\n",
      "p value: 0.01047464310091866 \n",
      "\n",
      "degree of freedom: 1 \n",
      "\n",
      "expected value:\n",
      " [[2730.6474 3652.3526]\n",
      " [1547.3526 2069.6474]] \n",
      "\n"
     ]
    }
   ],
   "source": [
    "from scipy import stats\n",
    "\n",
    "#Contingency table\n",
    "table = [[2792,3591],[1486,2131]]\n",
    "print(\"Contingency table:\", table,'\\n')\n",
    "\n",
    "stat, p, dof, expected = stats.chi2_contingency(table)\n",
    "print(\"test stat:\", stat,'\\n')\n",
    "print(\"p value:\", p,'\\n')\n",
    "print(\"degree of freedom:\", dof,'\\n')\n",
    "print(\"expected value:\\n\", expected,'\\n')"
   ]
  },
  {
   "cell_type": "markdown",
   "metadata": {},
   "source": [
    "###### Step-6: Conclusion"
   ]
  },
  {
   "cell_type": "markdown",
   "metadata": {},
   "source": [
    "Since calculated value of stat is greater that the critical value(6.552 > 3.84), therefore we reject the null hypothesis.\n",
    "\n",
    "We may conclude that the gender is dependent of having voted in the last election."
   ]
  },
  {
   "cell_type": "markdown",
   "metadata": {},
   "source": [
    "# Problem Statement 19:  \n",
    " \n",
    "A sample of 100 voters are asked which of four candidates they would vote for in an election. The number supporting each candidate is given below: "
   ]
  },
  {
   "cell_type": "raw",
   "metadata": {},
   "source": [
    "Higgins    Reardon     White     Charlton\n",
    "\n",
    "  41         19         24         16 "
   ]
  },
  {
   "cell_type": "markdown",
   "metadata": {},
   "source": [
    "Do the data suggest that all candidates are equally popular? [Chi-Square = 14.96, with 3 df, p < 0.05 . "
   ]
  },
  {
   "cell_type": "markdown",
   "metadata": {},
   "source": [
    "###### Solution:"
   ]
  },
  {
   "cell_type": "markdown",
   "metadata": {},
   "source": [
    "We are going to perform chi-square independence test"
   ]
  },
  {
   "cell_type": "markdown",
   "metadata": {},
   "source": [
    "###### Step-1: State the null hypothesis"
   ]
  },
  {
   "cell_type": "markdown",
   "metadata": {},
   "source": [
    "H0: all candidates are equally popular.\n",
    "\n",
    "Ha: all candidates are not equally popular."
   ]
  },
  {
   "cell_type": "markdown",
   "metadata": {},
   "source": [
    "###### Step-2:Determine the confidence interval"
   ]
  },
  {
   "cell_type": "markdown",
   "metadata": {},
   "source": [
    "The given p value is 0.05, hence the confidence interval would be 95%."
   ]
  },
  {
   "cell_type": "markdown",
   "metadata": {},
   "source": [
    "###### Step-3: Find the critical value"
   ]
  },
  {
   "cell_type": "code",
   "execution_count": 26,
   "metadata": {},
   "outputs": [
    {
     "data": {
      "text/plain": [
       "7.814727903251179"
      ]
     },
     "execution_count": 26,
     "metadata": {},
     "output_type": "execute_result"
    }
   ],
   "source": [
    "from scipy import stats\n",
    "\n",
    "#degree of freedom\n",
    "df = 4 -1\n",
    "df\n",
    "\n",
    "#Find the critical value\n",
    "stats.chi2.ppf(0.95,df)"
   ]
  },
  {
   "cell_type": "markdown",
   "metadata": {},
   "source": [
    "###### Step-4: setup the decision rule"
   ]
  },
  {
   "cell_type": "markdown",
   "metadata": {},
   "source": [
    "Using the chi suqare statistic and a 95% confidence level, Reject H0 if stat > 7.81."
   ]
  },
  {
   "cell_type": "markdown",
   "metadata": {},
   "source": [
    "###### Step-5:Find the stats"
   ]
  },
  {
   "cell_type": "markdown",
   "metadata": {},
   "source": [
    "On the hypothesis that the die is unbiased we should expect the frequency of each number to be 100/4 =25."
   ]
  },
  {
   "cell_type": "code",
   "execution_count": 27,
   "metadata": {},
   "outputs": [
    {
     "data": {
      "text/plain": [
       "Power_divergenceResult(statistic=14.959999999999999, pvalue=0.001851152735284203)"
      ]
     },
     "execution_count": 27,
     "metadata": {},
     "output_type": "execute_result"
    }
   ],
   "source": [
    "from scipy import stats\n",
    "\n",
    "#goodness of fit\n",
    "stats.chisquare([41,19,24,16],[25,25,25,25])"
   ]
  },
  {
   "cell_type": "markdown",
   "metadata": {},
   "source": [
    "###### Step-6:Conclusion"
   ]
  },
  {
   "cell_type": "markdown",
   "metadata": {},
   "source": [
    "Since the calculated value of stat is greater than 7.81, we can reject the null hypothesis.\n",
    "\n",
    "We may conclude that all candidates are not equally popular."
   ]
  },
  {
   "cell_type": "markdown",
   "metadata": {},
   "source": [
    "# Problem Statement 20: \n",
    "Children of three ages are asked to indicate their preference for three photographs of adults. Do the data suggest that there is a significant relationship between age and photograph preference? What is wrong with this study? [Chi-Square = 29.6, with 4 df: 𝑝  < 0.05]. "
   ]
  },
  {
   "cell_type": "raw",
   "metadata": {},
   "source": [
    "                                     Photograph     \n",
    "                \n",
    "\t\t\t\t                A        B        C\n",
    "\t\t\t\t\n",
    "\t\t\t\t5-6 years       18       22       20\n",
    "\t\t\t\t\n",
    "age of child    7-8 years       2        28       40\n",
    "\t\t\t\t\n",
    "\t\t\t\t9-10 years      20       10       40"
   ]
  },
  {
   "cell_type": "markdown",
   "metadata": {},
   "source": [
    "###### Solution:"
   ]
  },
  {
   "cell_type": "markdown",
   "metadata": {},
   "source": [
    "We are going to perform chi-square independence test"
   ]
  },
  {
   "cell_type": "markdown",
   "metadata": {},
   "source": [
    "###### Step-1: State the hypothesis"
   ]
  },
  {
   "cell_type": "markdown",
   "metadata": {},
   "source": [
    "H0 = Age and photograph preference are independent\n",
    "\n",
    "Ha = Age and photograph preference are dependent"
   ]
  },
  {
   "cell_type": "markdown",
   "metadata": {},
   "source": [
    "###### Step-2:Determine the confidence interval"
   ]
  },
  {
   "cell_type": "markdown",
   "metadata": {},
   "source": [
    "The given p value is 0.05, hence the confidence interval would be 95%."
   ]
  },
  {
   "cell_type": "markdown",
   "metadata": {},
   "source": [
    "###### Step-3: Find the critical value"
   ]
  },
  {
   "cell_type": "code",
   "execution_count": 28,
   "metadata": {},
   "outputs": [
    {
     "data": {
      "text/plain": [
       "9.487729036781154"
      ]
     },
     "execution_count": 28,
     "metadata": {},
     "output_type": "execute_result"
    }
   ],
   "source": [
    "from scipy import stats\n",
    "\n",
    "#degree of freedom\n",
    "df = (3-1)*(3-1)\n",
    "df\n",
    "\n",
    "#Find the critical value\n",
    "stats.chi2.ppf(0.95,df)"
   ]
  },
  {
   "cell_type": "markdown",
   "metadata": {},
   "source": [
    "###### Step-4: setup the decision rule"
   ]
  },
  {
   "cell_type": "markdown",
   "metadata": {},
   "source": [
    "Using the chi suqare statistic and a 95% confidence level, Reject H0 if stat > 9.48."
   ]
  },
  {
   "cell_type": "markdown",
   "metadata": {},
   "source": [
    "###### Step-5:Find the stats"
   ]
  },
  {
   "cell_type": "code",
   "execution_count": 29,
   "metadata": {},
   "outputs": [
    {
     "name": "stdout",
     "output_type": "stream",
     "text": [
      "Contingency table: [[18, 22, 20], [2, 28, 40], [20, 10, 40]] \n",
      "\n",
      "test stat: 29.603174603174608 \n",
      "\n",
      "p value: 5.894582174262606e-06 \n",
      "\n",
      "degree of freedom: 4 \n",
      "\n",
      "expected value:\n",
      " [[12. 18. 30.]\n",
      " [14. 21. 35.]\n",
      " [14. 21. 35.]] \n",
      "\n"
     ]
    }
   ],
   "source": [
    "from scipy import stats\n",
    "\n",
    "#Contingency table\n",
    "table = [[18,22,20],[2,28,40],[20,10,40]]\n",
    "print(\"Contingency table:\", table,'\\n')\n",
    "\n",
    "stat, p, dof, expected = stats.chi2_contingency(table)\n",
    "print(\"test stat:\", stat,'\\n')\n",
    "print(\"p value:\", p,'\\n')\n",
    "print(\"degree of freedom:\", dof,'\\n')\n",
    "print(\"expected value:\\n\", expected,'\\n')"
   ]
  },
  {
   "cell_type": "markdown",
   "metadata": {},
   "source": [
    "###### Step-6: Conclusion"
   ]
  },
  {
   "cell_type": "markdown",
   "metadata": {},
   "source": [
    "Since the calculated value of stat is greater than 9.48, we can reject the null hypothesis.\n",
    "\n",
    "We may conclude that Age and photograph preference are significantly dependent."
   ]
  },
  {
   "cell_type": "markdown",
   "metadata": {},
   "source": [
    "# Problem Statement 21:  \n",
    " \n",
    "A study of conformity using the Asch paradigm involved two conditions: one where one confederate supported the true judgement and another where no confederate gave the correct response. "
   ]
  },
  {
   "cell_type": "raw",
   "metadata": {},
   "source": [
    "              Support     No Support\n",
    "\n",
    "conform         18           40\n",
    "\n",
    "Not conform     32           10"
   ]
  },
  {
   "cell_type": "markdown",
   "metadata": {},
   "source": [
    "Is there a significant difference between the \"support\" and \"no support\" conditions in the frequency with which individuals are likely to conform? [Chi-Square = 19.87, with 1 df: 𝑝  < 0.05]."
   ]
  },
  {
   "cell_type": "markdown",
   "metadata": {},
   "source": [
    "###### Solution:"
   ]
  },
  {
   "cell_type": "markdown",
   "metadata": {},
   "source": [
    "We are going to perform chi-square independence test."
   ]
  },
  {
   "cell_type": "markdown",
   "metadata": {},
   "source": [
    "###### Step-1: State the hypothesis"
   ]
  },
  {
   "cell_type": "markdown",
   "metadata": {},
   "source": [
    "H0 = There is no significant difference between the \"support\" and \"no support\" conditions\n",
    "\n",
    "Ha = There is a significant difference between the \"support\" and \"no support\" conditions"
   ]
  },
  {
   "cell_type": "markdown",
   "metadata": {},
   "source": [
    "###### Step-2:Determine the confidence interval"
   ]
  },
  {
   "cell_type": "markdown",
   "metadata": {},
   "source": [
    "The given p value is 0.05, hence the confidence interval would be 95%."
   ]
  },
  {
   "cell_type": "markdown",
   "metadata": {},
   "source": [
    "###### Step-3: Find the critical value"
   ]
  },
  {
   "cell_type": "code",
   "execution_count": 30,
   "metadata": {},
   "outputs": [
    {
     "data": {
      "text/plain": [
       "3.841458820694124"
      ]
     },
     "execution_count": 30,
     "metadata": {},
     "output_type": "execute_result"
    }
   ],
   "source": [
    "from scipy import stats\n",
    "\n",
    "#degree of freedom\n",
    "df = (2-1)*(2-1)\n",
    "df\n",
    "\n",
    "#Find the critical value\n",
    "stats.chi2.ppf(0.95,df)"
   ]
  },
  {
   "cell_type": "markdown",
   "metadata": {},
   "source": [
    "###### Step-4: Setup the decision rule"
   ]
  },
  {
   "cell_type": "markdown",
   "metadata": {},
   "source": [
    "Using the chi suqare statistic and a 95% confidence level, Reject H0 if stat > 3.84."
   ]
  },
  {
   "cell_type": "markdown",
   "metadata": {},
   "source": [
    "###### Step-5:Find the stats"
   ]
  },
  {
   "cell_type": "code",
   "execution_count": 31,
   "metadata": {},
   "outputs": [
    {
     "name": "stdout",
     "output_type": "stream",
     "text": [
      "Contingency table: [[18, 40], [32, 10]] \n",
      "\n",
      "test stat: 18.10344827586207 \n",
      "\n",
      "p value: 2.092221924065813e-05 \n",
      "\n",
      "degree of freedom: 1 \n",
      "\n",
      "expected value:\n",
      " [[29. 29.]\n",
      " [21. 21.]] \n",
      "\n"
     ]
    }
   ],
   "source": [
    "from scipy import stats\n",
    "\n",
    "#Contingency table\n",
    "table = [[18,40],[32,10]]\n",
    "print(\"Contingency table:\", table,'\\n')\n",
    "\n",
    "stat, p, dof, expected = stats.chi2_contingency(table)\n",
    "print(\"test stat:\", stat,'\\n')\n",
    "print(\"p value:\", p,'\\n')\n",
    "print(\"degree of freedom:\", dof,'\\n')\n",
    "print(\"expected value:\\n\", expected,'\\n')"
   ]
  },
  {
   "cell_type": "markdown",
   "metadata": {},
   "source": [
    "###### Step-6: Conclusion"
   ]
  },
  {
   "cell_type": "markdown",
   "metadata": {},
   "source": [
    "Since the calculated value of stat is greater than 3.84, we can reject the null hypothesis.\n",
    "\n",
    "Therefore we may conclude that there is a significant difference between the \"support\" and \"no support\" conditions, in terms of the frequency with which individuals conformed."
   ]
  },
  {
   "cell_type": "markdown",
   "metadata": {},
   "source": [
    "# Problem Statement 22:  \n",
    " \n",
    "We want to test whether short people differ with respect to their leadership qualities (Genghis Khan, Adolf Hitler and Napoleon were all stature-deprived, and how many midget MP's are there?) The following table shows the frequencies with which 43 short people and 52 tall people were categorized as \"leaders\", \"followers\" or as \"unclassifiable\". Is there a relationship between height and leadership qualities?  \n",
    "[Chi-Square = 10.71, with 2 df: 𝑝  < 0.01]. "
   ]
  },
  {
   "cell_type": "raw",
   "metadata": {},
   "source": [
    "                           Height     \n",
    "                \n",
    "\t\t\t\t     Short       Tall        \n",
    "\t\t\t\t\n",
    "Leader                12          32       \n",
    "\t\t\t\t\n",
    "Follower              22          14       \n",
    "\t\t\t\t\n",
    "Unclassifiable        9           6   "
   ]
  },
  {
   "cell_type": "markdown",
   "metadata": {},
   "source": [
    "###### Solution:"
   ]
  },
  {
   "cell_type": "markdown",
   "metadata": {},
   "source": [
    "We are going to perform chi-square independence test."
   ]
  },
  {
   "cell_type": "markdown",
   "metadata": {},
   "source": [
    "###### Step-1: State the hypothesis"
   ]
  },
  {
   "cell_type": "markdown",
   "metadata": {},
   "source": [
    "H0 = There is no relationship between height and leadership qualities.\n",
    "\n",
    "Ha = There is a significant relationship between height and leadership qualities."
   ]
  },
  {
   "cell_type": "markdown",
   "metadata": {},
   "source": [
    "###### Step-2:Determine the confidence interval"
   ]
  },
  {
   "cell_type": "markdown",
   "metadata": {},
   "source": [
    "The given p value is 0.01, hence the confidence interval would be 99%."
   ]
  },
  {
   "cell_type": "markdown",
   "metadata": {},
   "source": [
    "###### Step-3: Find the critical value"
   ]
  },
  {
   "cell_type": "code",
   "execution_count": 32,
   "metadata": {},
   "outputs": [
    {
     "data": {
      "text/plain": [
       "9.21034037197618"
      ]
     },
     "execution_count": 32,
     "metadata": {},
     "output_type": "execute_result"
    }
   ],
   "source": [
    "from scipy import stats\n",
    "\n",
    "#degree of freedom\n",
    "df = (3-1)*(2-1)\n",
    "df\n",
    "\n",
    "#Find the critical value\n",
    "stats.chi2.ppf(0.99,df)"
   ]
  },
  {
   "cell_type": "markdown",
   "metadata": {},
   "source": [
    "###### Step-4: Setup the decision rule"
   ]
  },
  {
   "cell_type": "markdown",
   "metadata": {},
   "source": [
    "Using the chi suqare statistic and a 99% confidence level, Reject H0 if stat > 9.21."
   ]
  },
  {
   "cell_type": "markdown",
   "metadata": {},
   "source": [
    "###### Step-5:Find the stats"
   ]
  },
  {
   "cell_type": "code",
   "execution_count": 33,
   "metadata": {},
   "outputs": [
    {
     "name": "stdout",
     "output_type": "stream",
     "text": [
      "Contingency table: [[12, 32], [22, 14], [9, 6]] \n",
      "\n",
      "test stat: 10.712198008709638 \n",
      "\n",
      "p value: 0.004719280137040844 \n",
      "\n",
      "degree of freedom: 2 \n",
      "\n",
      "expected value:\n",
      " [[19.91578947 24.08421053]\n",
      " [16.29473684 19.70526316]\n",
      " [ 6.78947368  8.21052632]] \n",
      "\n"
     ]
    }
   ],
   "source": [
    "from scipy import stats\n",
    "\n",
    "#Contingency table\n",
    "table = [[12,32],[22,14],[9,6]]\n",
    "print(\"Contingency table:\", table,'\\n')\n",
    "\n",
    "stat, p, dof, expected = stats.chi2_contingency(table)\n",
    "print(\"test stat:\", stat,'\\n')\n",
    "print(\"p value:\", p,'\\n')\n",
    "print(\"degree of freedom:\", dof,'\\n')\n",
    "print(\"expected value:\\n\", expected,'\\n')"
   ]
  },
  {
   "cell_type": "markdown",
   "metadata": {},
   "source": [
    "###### Step-6: Conclusion"
   ]
  },
  {
   "cell_type": "markdown",
   "metadata": {},
   "source": [
    "Since the calculated value of stat is greater than 9.21, we can reject the null hypothesis.\n",
    "\n",
    "Therefore we may conclude that there is a significant relationship between height and leadership qualities."
   ]
  },
  {
   "cell_type": "markdown",
   "metadata": {},
   "source": [
    "# Problem Statement 23:  \n",
    " \n",
    "Each respondent in the Current Population Survey of March 1993 was classified as employed, unemployed, or outside the labor force. The results for men in California age 3544 can be cross-tabulated by marital status, as follows: "
   ]
  },
  {
   "cell_type": "raw",
   "metadata": {},
   "source": [
    "\t\t\t\t         Married       Widowed,divorced    Never Married\n",
    "\t\t\t\t\t                   or separated\n",
    "\t\t\t\t\n",
    "Employed                   12                32               114    \n",
    "\t\t\t\t\n",
    "Unemployed                 22                14               20\n",
    "\t\t\t\t\n",
    "Not in labor force         9                 6                25   "
   ]
  },
  {
   "cell_type": "markdown",
   "metadata": {},
   "source": [
    "Men of different marital status seem to have different distributions of labor force status. Or is this just chance variation? (you may assume the table results from a simple random sample.) "
   ]
  },
  {
   "cell_type": "markdown",
   "metadata": {},
   "source": [
    "###### Solution:"
   ]
  },
  {
   "cell_type": "markdown",
   "metadata": {},
   "source": [
    "We are going to perform chi-square independence test."
   ]
  },
  {
   "cell_type": "markdown",
   "metadata": {},
   "source": [
    "###### Step-1: State the hypothesis"
   ]
  },
  {
   "cell_type": "markdown",
   "metadata": {},
   "source": [
    "H0: The mariatal status and labor force status are independent.\n",
    "    \n",
    "Ha: The mariatal status and labor force status are significantly dependent."
   ]
  },
  {
   "cell_type": "markdown",
   "metadata": {},
   "source": [
    "###### Step-2:Determine the confidence interval"
   ]
  },
  {
   "cell_type": "markdown",
   "metadata": {},
   "source": [
    "Assume the significance level is 0.05, hence the confidence inteval would be .095."
   ]
  },
  {
   "cell_type": "markdown",
   "metadata": {},
   "source": [
    "###### Step-3: Find the critical value"
   ]
  },
  {
   "cell_type": "code",
   "execution_count": 34,
   "metadata": {},
   "outputs": [
    {
     "data": {
      "text/plain": [
       "9.487729036781154"
      ]
     },
     "execution_count": 34,
     "metadata": {},
     "output_type": "execute_result"
    }
   ],
   "source": [
    "from scipy import stats\n",
    "\n",
    "#degree of freedom\n",
    "df = (3-1)*(3-1)\n",
    "df\n",
    "\n",
    "#Find the critical value\n",
    "stats.chi2.ppf(0.95,df)"
   ]
  },
  {
   "cell_type": "markdown",
   "metadata": {},
   "source": [
    "###### Step-4: Setup the decision rule"
   ]
  },
  {
   "cell_type": "markdown",
   "metadata": {},
   "source": [
    "Using the chi suqare statistic and 95% confidence level, Reject H0 if stat > 9.48."
   ]
  },
  {
   "cell_type": "markdown",
   "metadata": {},
   "source": [
    "###### Step-5:Find the stats"
   ]
  },
  {
   "cell_type": "code",
   "execution_count": 35,
   "metadata": {},
   "outputs": [
    {
     "name": "stdout",
     "output_type": "stream",
     "text": [
      "Contingency table: [[12, 32, 114], [22, 14, 20], [9, 6, 25]] \n",
      "\n",
      "test stat: 35.31735051680232 \n",
      "\n",
      "p value: 3.9977495560257406e-07 \n",
      "\n",
      "degree of freedom: 4 \n",
      "\n",
      "expected value:\n",
      " [[26.7480315  32.34645669 98.90551181]\n",
      " [ 9.48031496 11.46456693 35.05511811]\n",
      " [ 6.77165354  8.18897638 25.03937008]] \n",
      "\n"
     ]
    }
   ],
   "source": [
    "from scipy import stats\n",
    "\n",
    "#Contingency table\n",
    "table = [[12,32,114],[22,14,20],[9,6,25]]\n",
    "print(\"Contingency table:\", table,'\\n')\n",
    "\n",
    "stat, p, dof, expected = stats.chi2_contingency(table)\n",
    "print(\"test stat:\", stat,'\\n')\n",
    "print(\"p value:\", p,'\\n')\n",
    "print(\"degree of freedom:\", dof,'\\n')\n",
    "print(\"expected value:\\n\", expected,'\\n')"
   ]
  },
  {
   "cell_type": "markdown",
   "metadata": {},
   "source": [
    "###### Step-6: Conclusion"
   ]
  },
  {
   "cell_type": "markdown",
   "metadata": {},
   "source": [
    "Since the calculated value of stat is greater than 9.48, we can reject the null hypothesis.\n",
    "\n",
    "Therefore we may conclude that the mariatal status and labor force status significanly dependent, hence men of different marital status seem to have different distributions of labor force status."
   ]
  }
 ],
 "metadata": {
  "kernelspec": {
   "display_name": "Python 3",
   "language": "python",
   "name": "python3"
  },
  "language_info": {
   "codemirror_mode": {
    "name": "ipython",
    "version": 3
   },
   "file_extension": ".py",
   "mimetype": "text/x-python",
   "name": "python",
   "nbconvert_exporter": "python",
   "pygments_lexer": "ipython3",
   "version": "3.6.8"
  }
 },
 "nbformat": 4,
 "nbformat_minor": 2
}
